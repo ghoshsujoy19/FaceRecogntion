{
 "cells": [
  {
   "cell_type": "code",
   "execution_count": null,
   "metadata": {
    "_cell_guid": "b1076dfc-b9ad-4769-8c92-a6c4dae69d19",
    "_uuid": "8f2839f25d086af736a60e9eeb907d3b93b6e0e5",
    "collapsed": true
   },
   "outputs": [],
   "source": [
    "# This Python 3 environment comes with many helpful analytics libraries installed\n",
    "# It is defined by the kaggle/python docker image: https://github.com/kaggle/docker-python\n",
    "# For example, here's several helpful packages to load in \n",
    "\n",
    "import os\n",
    "from os import listdir, makedirs\n",
    "from os.path import join, exists, expanduser\n",
    "\n",
    "from keras import applications\n",
    "from keras.preprocessing.image import ImageDataGenerator\n",
    "from keras import optimizers\n",
    "from keras.models import Sequential, Model\n",
    "from keras.layers import Dense, GlobalAveragePooling2D\n",
    "from keras.layers import Activation, Dropout, Flatten, Dense\n",
    "from keras import backend as K\n",
    "import tensorflow as tf\n",
    "print(os.listdir(\"../input\"))\n",
    "\n",
    "# Any results you write to the current directory are saved as output."
   ]
  },
  {
   "cell_type": "code",
   "execution_count": null,
   "metadata": {
    "_cell_guid": "79c7e3d0-c299-4dcb-8224-4455121ee9b0",
    "_uuid": "d629ff2d2480ee46fbb7e2d37f6b5fab8052498a",
    "collapsed": true
   },
   "outputs": [],
   "source": [
    "cache_dir = expanduser(join('~', '.keras'))\n",
    "if not exists(cache_dir):\n",
    "    makedirs(cache_dir)\n",
    "models_dir = join(cache_dir, 'models')\n",
    "if not exists(models_dir):\n",
    "    makedirs(models_dir)\n",
    "    \n",
    "!cp ../input/keras-pretrained-models/*notop* ~/.keras/models/\n",
    "!cp ../input/keras-pretrained-models/imagenet_class_index.json ~/.keras/models/\n",
    "!cp ../input/keras-pretrained-models/resnet50* ~/.keras/models/\n",
    "\n",
    "print(\"Available Pretrained Models:\\n\")\n",
    "!ls ~/.keras/models"
   ]
  },
  {
   "cell_type": "code",
   "execution_count": null,
   "metadata": {
    "_uuid": "2b12dac100640b6210deb1f56890908c58c60de7",
    "collapsed": true
   },
   "outputs": [],
   "source": [
    "imageWidth = 224\n",
    "imageHeight = 224\n",
    "train_data_dir = '../input/fruits/fruits-360_dataset/fruits-360/Training/'\n",
    "validation_data_dir = '../input/fruits/fruits-360_dataset/fruits-360/Test/'\n",
    "train_samples = 31688\n",
    "validation_samples = 10657\n",
    "batch_size = 64"
   ]
  },
  {
   "cell_type": "code",
   "execution_count": null,
   "metadata": {
    "_uuid": "736fe783e1151c9ce3ee60ccbc9d6398000c67c9",
    "collapsed": true
   },
   "outputs": [],
   "source": [
    "print(os.listdir(\"../input/fruits/fruits-360_dataset/fruits-360/Test/\"))"
   ]
  },
  {
   "cell_type": "code",
   "execution_count": null,
   "metadata": {
    "_uuid": "c6c625591f08bc4942a4b56e65cbbe1b06462c63",
    "collapsed": true
   },
   "outputs": [],
   "source": [
    "train_datagen = ImageDataGenerator(\n",
    "    rescale=1. / 255,\n",
    "    shear_range=0.2,\n",
    "    zoom_range=0.2,\n",
    "    horizontal_flip=True)\n",
    "\n",
    "test_datagen = ImageDataGenerator(rescale=1. / 255)\n",
    "\n",
    "train_generator = train_datagen.flow_from_directory(\n",
    "    train_data_dir,\n",
    "    target_size=(imageHeight, imageWidth),\n",
    "    batch_size=batch_size,\n",
    "    class_mode='categorical')\n",
    "\n",
    "validation_generator = test_datagen.flow_from_directory(\n",
    "    validation_data_dir,\n",
    "    target_size=(imageHeight, imageWidth),\n",
    "    batch_size=batch_size,\n",
    "    class_mode='categorical')"
   ]
  },
  {
   "cell_type": "code",
   "execution_count": null,
   "metadata": {
    "_uuid": "f4990ba98a99dd8097dd3fbca0028ab813caf883",
    "collapsed": true
   },
   "outputs": [],
   "source": [
    "K.set_learning_phase(1)\n",
    "inceptionModel = applications.ResNet50(weights='imagenet', include_top=False)\n",
    "fcLayer = inceptionModel.output\n",
    "fcLayer = GlobalAveragePooling2D()(fcLayer)\n",
    "\n",
    "fcLayer = Dense(512, activation='relu')(fcLayer)\n",
    "Predictions = Dense(75, activation='softmax')(fcLayer)\n",
    "FinalModel = Model(inputs=inceptionModel.input, outputs=Predictions)"
   ]
  },
  {
   "cell_type": "code",
   "execution_count": null,
   "metadata": {
    "_uuid": "701047aab96c79c33f5f9febfa705702f2c4d533",
    "collapsed": true
   },
   "outputs": [],
   "source": [
    "FinalModel.compile(loss='categorical_crossentropy',\n",
    "              optimizer=optimizers.Adam(lr=1e-3),\n",
    "              metrics=['accuracy'])"
   ]
  },
  {
   "cell_type": "code",
   "execution_count": null,
   "metadata": {
    "_uuid": "beb89c6afb4a39e7e88a4edad3a2374214462198",
    "collapsed": true,
    "scrolled": true
   },
   "outputs": [],
   "source": [
    "from tensorflow.python.client import device_lib\n",
    "print(device_lib.list_local_devices())"
   ]
  },
  {
   "cell_type": "code",
   "execution_count": null,
   "metadata": {
    "_uuid": "576294e4387147d32117d10c21f3fbd27b99ff4e",
    "collapsed": true
   },
   "outputs": [],
   "source": [
    "import tensorflow as tf\n",
    "history_pretrained = FinalModel.fit_generator(\n",
    "train_generator,\n",
    "epochs=3, shuffle = True, verbose = 1, validation_data = validation_generator)\n",
    "\n",
    "K.set_learning_phase(0)"
   ]
  },
  {
   "cell_type": "code",
   "execution_count": null,
   "metadata": {
    "_uuid": "1359838ec5c37e5f8c6a5db35dd37e497a8da6e9",
    "collapsed": true
   },
   "outputs": [],
   "source": [
    "def freeze_session(session, keep_var_names=None, output_names=None, clear_devices=True):\n",
    "    from tensorflow.python.framework.graph_util import convert_variables_to_constants\n",
    "    graph = session.graph\n",
    "    with graph.as_default():\n",
    "        freeze_var_names = list(set(v.op.name for v in tf.global_variables()).difference(keep_var_names or []))\n",
    "        output_names = output_names or []\n",
    "        output_names += [v.op.name for v in tf.global_variables()]\n",
    "        input_graph_def = graph.as_graph_def()\n",
    "        if clear_devices:\n",
    "            for node in input_graph_def.node:\n",
    "                node.device = \"\"\n",
    "        frozen_graph = convert_variables_to_constants(session, input_graph_def,\n",
    "                                                      output_names, freeze_var_names)\n",
    "        return frozen_graph"
   ]
  },
  {
   "cell_type": "code",
   "execution_count": null,
   "metadata": {
    "_uuid": "06c8c23334f969db3b5630766d2de17ae4562684",
    "collapsed": true
   },
   "outputs": [],
   "source": [
    "frozen_graph = freeze_session(K.get_session(),\n",
    "                              output_names=[out.op.name for out in FinalModel.outputs])\n",
    "tf.train.write_graph(frozen_graph, \"\", \"my_model.pb\", as_text=False)"
   ]
  }
 ],
 "metadata": {
  "kernelspec": {
   "display_name": "Python 3",
   "language": "python",
   "name": "python3"
  },
  "language_info": {
   "codemirror_mode": {
    "name": "ipython",
    "version": 3
   },
   "file_extension": ".py",
   "mimetype": "text/x-python",
   "name": "python",
   "nbconvert_exporter": "python",
   "pygments_lexer": "ipython3",
   "version": "3.6.5"
  }
 },
 "nbformat": 4,
 "nbformat_minor": 1
}
